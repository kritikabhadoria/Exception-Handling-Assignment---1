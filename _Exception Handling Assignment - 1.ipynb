{
 "cells": [
  {
   "cell_type": "markdown",
   "id": "e115448a-76dd-4705-8e10-6c9eb1c18ec0",
   "metadata": {},
   "source": [
    "Ques1. What is an Exception in python? Write the difference between Exceptions and syntax errors"
   ]
  },
  {
   "cell_type": "code",
   "execution_count": 1,
   "id": "1d78753d-76c2-4be9-a072-607a82df8e41",
   "metadata": {},
   "outputs": [
    {
     "name": "stdout",
     "output_type": "stream",
     "text": [
      "Division by zero is not allowed.\n"
     ]
    }
   ],
   "source": [
    "try: #exception error\n",
    "    result = 10 / 0\n",
    "except ZeroDivisionError:\n",
    "    print(\"Division by zero is not allowed.\")\n"
   ]
  },
  {
   "cell_type": "code",
   "execution_count": 3,
   "id": "56f395a7-5ef2-4557-951a-a15ed57e657e",
   "metadata": {},
   "outputs": [
    {
     "ename": "NameError",
     "evalue": "name 'x' is not defined",
     "output_type": "error",
     "traceback": [
      "\u001b[0;31m---------------------------------------------------------------------------\u001b[0m",
      "\u001b[0;31mNameError\u001b[0m                                 Traceback (most recent call last)",
      "Cell \u001b[0;32mIn[3], line 1\u001b[0m\n\u001b[0;32m----> 1\u001b[0m \u001b[38;5;28;01mif\u001b[39;00m \u001b[43mx\u001b[49m \u001b[38;5;241m==\u001b[39m \u001b[38;5;241m5\u001b[39m:  \u001b[38;5;66;03m# Missing colon, a syntax error.\u001b[39;00m\n\u001b[1;32m      2\u001b[0m     \u001b[38;5;28mprint\u001b[39m(\u001b[38;5;124m\"\u001b[39m\u001b[38;5;124mx is equal to 5.\u001b[39m\u001b[38;5;124m\"\u001b[39m)\n",
      "\u001b[0;31mNameError\u001b[0m: name 'x' is not defined"
     ]
    }
   ],
   "source": [
    "if x == 5  # Missing colon, a syntax error.\n",
    "    print(\"x is equal to 5.\")\n"
   ]
  },
  {
   "cell_type": "markdown",
   "id": "b2a79dd3-e7ad-4fb6-9868-680fa8e5ad0d",
   "metadata": {},
   "source": [
    "Q2. What happens when an exception is not handled? Explain with an example."
   ]
  },
  {
   "cell_type": "markdown",
   "id": "48d23993-d408-4eea-87fe-fc9391353fc6",
   "metadata": {},
   "source": [
    "When an exception is not handled, it leads to a program termination, and an error message is displayed indicating the type of exception and the traceback of the code execution that led to the exception."
   ]
  },
  {
   "cell_type": "code",
   "execution_count": 4,
   "id": "30b06f5b-94e2-478f-b34a-7419fd5de30a",
   "metadata": {},
   "outputs": [
    {
     "name": "stdout",
     "output_type": "stream",
     "text": [
      "Division by zero is not allowed.\n"
     ]
    }
   ],
   "source": [
    "#example \n",
    "def divide_numbers(a, b):\n",
    "    result = a / b\n",
    "    return result\n",
    "\n",
    "# Example 1: Division by zero (Unhandled Exception)\n",
    "try:\n",
    "    result = divide_numbers(10, 0)\n",
    "except ZeroDivisionError:\n",
    "    print(\"Division by zero is not allowed.\")\n"
   ]
  },
  {
   "cell_type": "markdown",
   "id": "6f7a1322-486b-4784-9539-849e3b1ea9dc",
   "metadata": {},
   "source": [
    "Q3. Which Python statements are used to catch and handle exceptions? Explain with an example"
   ]
  },
  {
   "cell_type": "markdown",
   "id": "7d835a83-2ab3-4b17-a531-6298d719e385",
   "metadata": {},
   "source": [
    "In Python, you can catch and handle exceptions using the try, except, and optionally else and finally blocks. "
   ]
  },
  {
   "cell_type": "markdown",
   "id": "df5dcbb1-2d49-4360-ae59-b0a92b01d1cf",
   "metadata": {},
   "source": [
    "try:\n",
    "    # Code that may raise an exception\n",
    "except ExceptionType1:\n",
    "    # Code to handle ExceptionType1\n",
    "except ExceptionType2:\n",
    "    # Code to handle ExceptionType2\n",
    "else:\n",
    "    # Code that will be executed if there is no exception\n",
    "finally:\n",
    "    # Code that will be executed regardless of whether an exception occurred or not\n"
   ]
  },
  {
   "cell_type": "code",
   "execution_count": 6,
   "id": "f0c9dc8b-1082-42b2-adf3-72be9f397b66",
   "metadata": {},
   "outputs": [
    {
     "name": "stdout",
     "output_type": "stream",
     "text": [
      "Division successful.\n",
      "Execution completed.\n",
      "Result1: 5.0\n",
      "Division by zero is not allowed.\n",
      "Execution completed.\n",
      "Result2: None\n"
     ]
    }
   ],
   "source": [
    "def divide_numbers(a, b):\n",
    "    try:\n",
    "        result = a / b\n",
    "    except ZeroDivisionError:\n",
    "        print(\"Division by zero is not allowed.\")\n",
    "        return None\n",
    "    else:\n",
    "        print(\"Division successful.\")\n",
    "        return result\n",
    "    finally:\n",
    "        print(\"Execution completed.\")\n",
    "\n",
    "# Example 1: Division by a non-zero number\n",
    "result1 = divide_numbers(10, 2)\n",
    "print(\"Result1:\", result1)\n",
    "\n",
    "# Example 2: Division by zero\n",
    "result2 = divide_numbers(10, 0)\n",
    "print(\"Result2:\", result2)\n"
   ]
  },
  {
   "cell_type": "markdown",
   "id": "f0a6cada-5ada-40a4-9fcd-5f7c276a64f4",
   "metadata": {},
   "source": [
    "Q4. Explain with an example:\n",
    "a. try and else \n",
    "b. finally \n",
    "c. raise"
   ]
  },
  {
   "cell_type": "code",
   "execution_count": 11,
   "id": "f046cd60-1ba7-430a-a841-022d8a1625f1",
   "metadata": {},
   "outputs": [
    {
     "name": "stdout",
     "output_type": "stream",
     "text": [
      "Division successful.\n",
      "Division by zero is not allowed.\n"
     ]
    }
   ],
   "source": [
    "#a \n",
    "def divide_numbers(a, b):\n",
    "    try:\n",
    "        result = a / b\n",
    "    except ZeroDivisionError:\n",
    "        print(\"Division by zero is not allowed.\")\n",
    "    else:\n",
    "        print(\"Division successful.\")\n",
    "        return result\n",
    "\n",
    "result1 = divide_numbers(10, 2)\n",
    "result2 = divide_numbers(10, 0)\n"
   ]
  },
  {
   "cell_type": "code",
   "execution_count": 9,
   "id": "e5061bd3-06f9-4055-bf68-df0b5daf3950",
   "metadata": {},
   "outputs": [
    {
     "name": "stdout",
     "output_type": "stream",
     "text": [
      "Division operation completed.\n",
      "Division by zero is not allowed.\n",
      "Division operation completed.\n"
     ]
    }
   ],
   "source": [
    "# b\n",
    "def divide_numbers(a, b):\n",
    "    try:\n",
    "        result = a / b\n",
    "    except ZeroDivisionError:\n",
    "        print(\"Division by zero is not allowed.\")\n",
    "    finally:\n",
    "        print(\"Division operation completed.\")\n",
    "\n",
    "result1 = divide_numbers(10, 2)\n",
    "result2 = divide_numbers(10, 0)\n"
   ]
  },
  {
   "cell_type": "code",
   "execution_count": 10,
   "id": "e0700032-4e51-4316-b482-8d304d37ce71",
   "metadata": {},
   "outputs": [
    {
     "name": "stdout",
     "output_type": "stream",
     "text": [
      "Number is positive and valid.\n",
      "Number must be a positive integer.\n"
     ]
    }
   ],
   "source": [
    "#c\n",
    "def check_positive_number(num):\n",
    "    if num <= 0:\n",
    "        raise ValueError(\"Number must be a positive integer.\")\n",
    "    else:\n",
    "        print(\"Number is positive and valid.\")\n",
    "\n",
    "try:\n",
    "    num1 = 5\n",
    "    check_positive_number(num1)\n",
    "    \n",
    "    num2 = -2\n",
    "    check_positive_number(num2)\n",
    "except ValueError as ve:\n",
    "    print(ve)\n"
   ]
  },
  {
   "cell_type": "markdown",
   "id": "4ada449a-aa63-4038-86b4-4e42d8bc3675",
   "metadata": {},
   "source": [
    "Q5. What are Custom Exceptions in python? Why do we need Custom Exceptions? Explin with an example\n"
   ]
  },
  {
   "cell_type": "markdown",
   "id": "43322a04-2bce-4e98-8cfc-1db2a1a9d9f1",
   "metadata": {},
   "source": [
    "Custom Exceptions in Python are user-defined exception classes that allow you to create your own specific types of exceptions to handle exceptional situations in your code"
   ]
  },
  {
   "cell_type": "code",
   "execution_count": 12,
   "id": "4eca87d1-d3c9-4e1e-88f0-28c55bba6152",
   "metadata": {},
   "outputs": [
    {
     "name": "stdout",
     "output_type": "stream",
     "text": [
      "Insufficient balance: Available balance is 1000, but tried to withdraw 1500.\n"
     ]
    }
   ],
   "source": [
    "class InsufficientBalanceError(Exception):\n",
    "    def __init__(self, balance, amount):\n",
    "        super().__init__(f\"Insufficient balance: Available balance is {balance}, but tried to withdraw {amount}.\")\n",
    "\n",
    "def withdraw_from_account(account_balance, amount_to_withdraw):\n",
    "    if account_balance < amount_to_withdraw:\n",
    "        raise InsufficientBalanceError(account_balance, amount_to_withdraw)\n",
    "    else:\n",
    "        account_balance -= amount_to_withdraw\n",
    "        print(f\"Withdrawal successful. Updated balance: {account_balance}\")\n",
    "\n",
    "# Example usage:\n",
    "try:\n",
    "    account_balance = 1000\n",
    "    amount_to_withdraw = 1500\n",
    "    withdraw_from_account(account_balance, amount_to_withdraw)\n",
    "except InsufficientBalanceError as e:\n",
    "    print(e)\n"
   ]
  },
  {
   "cell_type": "markdown",
   "id": "a7bb17c2-d09f-4efe-9cfc-748a582cda1d",
   "metadata": {},
   "source": [
    "Q6. Create custom exception class. Use this class to handle an exception."
   ]
  },
  {
   "cell_type": "code",
   "execution_count": 13,
   "id": "353c71c4-699c-4f40-a199-b605d0c3c5ea",
   "metadata": {},
   "outputs": [
    {
     "name": "stdout",
     "output_type": "stream",
     "text": [
      "Invalid email address: example.com\n"
     ]
    }
   ],
   "source": [
    "class InvalidEmailError(Exception):\n",
    "    def __init__(self, email):\n",
    "        super().__init__(f\"Invalid email address: {email}\")\n",
    "\n",
    "def validate_email(email):\n",
    "    if \"@\" not in email:\n",
    "        raise InvalidEmailError(email)\n",
    "    print(\"Email address is valid:\", email)\n",
    "\n",
    "# Example usage:\n",
    "try:\n",
    "    email = \"example.com\"\n",
    "    validate_email(email)\n",
    "except InvalidEmailError as e:\n",
    "    print(e)\n"
   ]
  },
  {
   "cell_type": "code",
   "execution_count": null,
   "id": "12b00f92-0102-44c2-9b05-37db32f442b3",
   "metadata": {},
   "outputs": [],
   "source": []
  }
 ],
 "metadata": {
  "kernelspec": {
   "display_name": "Python 3 (ipykernel)",
   "language": "python",
   "name": "python3"
  },
  "language_info": {
   "codemirror_mode": {
    "name": "ipython",
    "version": 3
   },
   "file_extension": ".py",
   "mimetype": "text/x-python",
   "name": "python",
   "nbconvert_exporter": "python",
   "pygments_lexer": "ipython3",
   "version": "3.10.8"
  }
 },
 "nbformat": 4,
 "nbformat_minor": 5
}
